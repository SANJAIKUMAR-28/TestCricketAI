{
  "nbformat": 4,
  "nbformat_minor": 0,
  "metadata": {
    "colab": {
      "provenance": []
    },
    "kernelspec": {
      "name": "python3",
      "display_name": "Python 3"
    },
    "language_info": {
      "name": "python"
    }
  },
  "cells": [
    {
      "cell_type": "code",
      "execution_count": null,
      "metadata": {
        "id": "2veAtXNjHJm3"
      },
      "outputs": [],
      "source": [
        "import numpy as np\n",
        "from numpy import random as rm"
      ]
    },
    {
      "cell_type": "code",
      "source": [
        "#test cricket AI\n",
        "def match(inn,batting,previous):\n",
        "    score=0\n",
        "    balls=1\n",
        "    wickets=0\n",
        "    bat=rm.randint(low=0,high=6)\n",
        "    bow=rm.randint(low=0,high=6)\n",
        "    while(wickets!=10):\n",
        "        overs=balls//6\n",
        "        rem=balls%6\n",
        "        if score>previous and inn==\"fourth\":\n",
        "            print(f\"End of {inn} innings!\\n{batting} : {score}/{wickets} in {overs}.{rem} overs\\n\")\n",
        "            return score,10-wickets\n",
        "        score+=bat\n",
        "        balls+=1\n",
        "        bat=rm.randint(low=0,high=6)\n",
        "        bow=rm.randint(low=0,high=6)\n",
        "        if bat==bow:\n",
        "            wickets+=1\n",
        "    print(f\"End of {inn} innings!\\n{batting} : {score}/{wickets} in {overs}.{rem} overs\\n\")\n",
        "    return score,wickets\n",
        "teams=np.array([\"IND\",\"ENG\",\"AUS\",\"SA\",\"NZ\",\"SL\",\"PAK\",\"WI\"])\n",
        "cap={\"IND\":\"Virat Kohli\",\"ENG\":\"Joe Root\",\"AUS\":\"Steven Smith\",\"SA\":\"Faf Du Plessis\",\"NZ\":\"Kane Williamson\",\"SL\":\"De Silva\",\"PAK\":\"Sarfraz Ahmed\",\"WI\":\"Shai Hope\"}\n",
        "t1=rm.choice(teams)\n",
        "t2=rm.choice(teams)\n",
        "while t1==t2:\n",
        "    t2=rm.choice(teams)\n",
        "print(f\"{t1} VS {t2}\\n\")\n",
        "toss=rm.choice([\"Heads\",\"Tails\"])\n",
        "p1_toss=rm.choice([\"Heads\",\"Tails\"])\n",
        "print(f\"{p1_toss}, says {cap[t1]} !\\n{toss} it is !!\\n\")\n",
        "if p1_toss==toss:\n",
        "    p1_descion=rm.choice([\"Bat\",\"Bowl\"])\n",
        "    print(f\"{t1} Won the toss and elecetd to {p1_descion} first\\n\")\n",
        "else:\n",
        "    p2_descion=rm.choice([\"Bat\",\"Bowl\"])\n",
        "    print(f\"{t2} Won the toss and elecetd to {p2_descion} first\\n\")\n",
        "if p1_descion==\"Bat\":\n",
        "    batting_team=t1\n",
        "    bowling_team=t2\n",
        "else:\n",
        "    batting_team=t2\n",
        "    bowling_team=t1\n",
        "#1st innings\n",
        "first,wick=match(\"first\",batting_team,0)\n",
        "#2nd innings\n",
        "temp=batting_team\n",
        "batting_team=bowling_team\n",
        "bowling_team=temp\n",
        "second,wick=match(\"second\",batting_team,0)\n",
        "trail=0\n",
        "if first<second:\n",
        "    trail=first-second\n",
        "    if trail>0:\n",
        "        print(f\"{bowling_team} trail by {first-second} runs\\n\")\n",
        "    else:\n",
        "        trail*=-1\n",
        "        print(f\"{bowling_team} trail by {(first-second)*(-1)} runs\\n\")\n",
        "else:\n",
        "    trail=second-first\n",
        "    if trail<0:\n",
        "        print(f\"{bowling_team} lead by {(second-first)*(-1)} runs\\n\")\n",
        "    else:\n",
        "        trail*=-1\n",
        "        print(f\"{bowling_team} lead by {(second-first)} runs\\n\")\n",
        "#3rd innings\n",
        "temp=batting_team\n",
        "batting_team=bowling_team\n",
        "bowling_team=temp\n",
        "third,wick=match(\"third\",batting_team,0)\n",
        "if third<trail:\n",
        "    print(f\"{bowling_team} team won by an innings and {trail-third} runs !!\")\n",
        "else:\n",
        "    #4th innings\n",
        "    print(f\"Target : {third-trail+1}\\n\")\n",
        "    temp=batting_team\n",
        "    batting_team=bowling_team\n",
        "    bowling_team=temp\n",
        "    fourth,wick=match(\"fourth\",batting_team,third-trail)\n",
        "    if third-trail==fourth:\n",
        "        print(\"Match tied !!\")\n",
        "    elif third-trail>fourth:\n",
        "        print(f\"{bowling_team} won by {third-trail-fourth} runs !!\")\n",
        "    else:\n",
        "        print(f\"{batting_team} won by {wick} wickets !!\" )\n"
      ],
      "metadata": {
        "colab": {
          "base_uri": "https://localhost:8080/"
        },
        "id": "eK5MR1zMHMq8",
        "outputId": "f1f19ed2-23c2-4cdb-e481-3f89d346e949"
      },
      "execution_count": null,
      "outputs": [
        {
          "output_type": "stream",
          "name": "stdout",
          "text": [
            "ENG VS SL\n",
            "\n",
            "Tails, says Joe Root !\n",
            "Heads it is !!\n",
            "\n",
            "SL Won the toss and elecetd to Bowl first\n",
            "\n",
            "End of first innings!\n",
            "SL : 165/10 in 10.4 overs\n",
            "\n",
            "End of second innings!\n",
            "ENG : 109/10 in 6.5 overs\n",
            "\n",
            "SL lead by 56 runs\n",
            "\n",
            "End of third innings!\n",
            "SL : 135/10 in 9.0 overs\n",
            "\n",
            "Target : 192\n",
            "\n",
            "End of fourth innings!\n",
            "ENG : 117/10 in 7.5 overs\n",
            "\n",
            "SL won by 74 runs !!\n"
          ]
        }
      ]
    }
  ]
}